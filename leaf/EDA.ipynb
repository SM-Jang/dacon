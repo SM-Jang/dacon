{
 "cells": [
  {
   "cell_type": "markdown",
   "id": "72ab04b1-ceeb-42f9-bd60-b47ab0b27d09",
   "metadata": {},
   "source": [
    "## Import"
   ]
  },
  {
   "cell_type": "code",
   "execution_count": 13,
   "id": "5b9f99a6-eeeb-4286-822e-545cdba4d2b0",
   "metadata": {},
   "outputs": [],
   "source": [
    "import os\n",
    "import numpy as np\n",
    "import pandas as pd\n",
    "import cv2\n",
    "# from PIL import Image"
   ]
  },
  {
   "cell_type": "markdown",
   "id": "7aaad7d5-643e-4ccd-ae32-920a9553b630",
   "metadata": {},
   "source": [
    "## Data Loader"
   ]
  },
  {
   "cell_type": "markdown",
   "id": "142e9ce8-2e4e-4eae-b9e5-52d6092b0f23",
   "metadata": {},
   "source": [
    "- train.csv -> img_path, label\n",
    "- test.csv -> img_path"
   ]
  },
  {
   "cell_type": "code",
   "execution_count": 14,
   "id": "1d3f208b-a5fa-45bd-8e60-a8a8bdb0ec6f",
   "metadata": {},
   "outputs": [],
   "source": [
    "train = pd.read_csv('dataset/train.csv', index_col=0)\n",
    "img_path_list = train['img_path'].tolist()\n",
    "image = cv2.imread(img_path_list[0])"
   ]
  },
  {
   "cell_type": "code",
   "execution_count": 20,
   "id": "7a8ee8ea-9a08-4169-9e4b-59e9353211c5",
   "metadata": {},
   "outputs": [
    {
     "name": "stdout",
     "output_type": "stream",
     "text": [
      "(2464, 3280, 3)\n"
     ]
    }
   ],
   "source": [
    "for path in img_path_list:\n",
    "    image = cv2.imread(path)\n",
    "    print(image.shape)\n",
    "    break"
   ]
  },
  {
   "cell_type": "code",
   "execution_count": 21,
   "id": "796d838a-c59c-45f6-96b0-f105325512a5",
   "metadata": {},
   "outputs": [
    {
     "data": {
      "text/plain": [
       "(1232, 1640)"
      ]
     },
     "execution_count": 21,
     "metadata": {},
     "output_type": "execute_result"
    }
   ],
   "source": [
    "2464//2, 3280//2"
   ]
  },
  {
   "cell_type": "code",
   "execution_count": null,
   "id": "31724e40-8707-44cb-ae79-dea4d12b8cde",
   "metadata": {},
   "outputs": [],
   "source": []
  }
 ],
 "metadata": {
  "kernelspec": {
   "display_name": "mstcn",
   "language": "python",
   "name": "mstcn"
  },
  "language_info": {
   "codemirror_mode": {
    "name": "ipython",
    "version": 3
   },
   "file_extension": ".py",
   "mimetype": "text/x-python",
   "name": "python",
   "nbconvert_exporter": "python",
   "pygments_lexer": "ipython3",
   "version": "3.7.13"
  }
 },
 "nbformat": 4,
 "nbformat_minor": 5
}
